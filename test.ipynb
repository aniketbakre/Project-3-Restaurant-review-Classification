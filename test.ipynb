{
 "cells": [
  {
   "cell_type": "code",
   "execution_count": 4,
   "metadata": {},
   "outputs": [
    {
     "name": "stdout",
     "output_type": "stream",
     "text": [
      "Model and vectorizer loaded successfully\n"
     ]
    }
   ],
   "source": [
    "import joblib\n",
    "# loading the model\n",
    "load_model = joblib.load(\"sentiment_model.pkl\")\n",
    "\n",
    "# Load vectorizer\n",
    "load_vectorizer = joblib.load(\"vectorizer.pkl\")\n",
    "\n",
    "# Confirmation\n",
    "print(\"Model and vectorizer loaded successfully\")"
   ]
  },
  {
   "cell_type": "code",
   "execution_count": 8,
   "metadata": {},
   "outputs": [
    {
     "data": {
      "text/plain": [
       "np.int64(1)"
      ]
     },
     "execution_count": 8,
     "metadata": {},
     "output_type": "execute_result"
    }
   ],
   "source": [
    "# Trying to predict single review\n",
    "review = \"Good CLASS RESTAURANT. Awl real likes reviews & ratings…. INSE BETTER KHANA TO INDIAN RAILWAYS DE DENGE….  Thank you….\"\n",
    "\n",
    "# Transform the new review using loaded vectorizer\n",
    "review_transformer = load_vectorizer.transform([review])\n",
    "\n",
    "# Predicting sentiment using load model\n",
    "prediction = load_model.predict(review_transformer)\n",
    "\n",
    "prediction[0]"
   ]
  },
  {
   "cell_type": "code",
   "execution_count": 9,
   "metadata": {},
   "outputs": [
    {
     "data": {
      "text/plain": [
       "'Liked'"
      ]
     },
     "execution_count": 9,
     "metadata": {},
     "output_type": "execute_result"
    }
   ],
   "source": [
    "# Result time\n",
    "sentiment = \"Liked\" if prediction[0] == 1 else \"Not Liked\"\n",
    "sentiment\n"
   ]
  },
  {
   "cell_type": "code",
   "execution_count": null,
   "metadata": {},
   "outputs": [],
   "source": []
  }
 ],
 "metadata": {
  "kernelspec": {
   "display_name": ".venv",
   "language": "python",
   "name": "python3"
  },
  "language_info": {
   "codemirror_mode": {
    "name": "ipython",
    "version": 3
   },
   "file_extension": ".py",
   "mimetype": "text/x-python",
   "name": "python",
   "nbconvert_exporter": "python",
   "pygments_lexer": "ipython3",
   "version": "3.12.8"
  }
 },
 "nbformat": 4,
 "nbformat_minor": 2
}
