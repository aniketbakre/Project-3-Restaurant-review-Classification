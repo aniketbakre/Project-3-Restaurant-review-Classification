{
 "cells": [
  {
   "cell_type": "markdown",
   "metadata": {},
   "source": [
    "## 1. Loading and Reviewing the data"
   ]
  },
  {
   "cell_type": "code",
   "execution_count": 131,
   "metadata": {},
   "outputs": [],
   "source": [
    "import numpy as np\n",
    "import pandas as pd\n",
    "import matplotlib.pyplot as plt"
   ]
  },
  {
   "cell_type": "code",
   "execution_count": 132,
   "metadata": {},
   "outputs": [],
   "source": [
    "data = pd.read_csv(r\"C:\\Users\\anikbakr\\Desktop\\My_Data\\20 Projects for resume\\NLP\\Project-3 Restaurant review Classification\\Restaurant_Reviews.tsv\", sep='\\t', quoting=3)"
   ]
  },
  {
   "cell_type": "markdown",
   "metadata": {},
   "source": [
    "quoting{0 or csv.QUOTE_MINIMAL, 1 or csv.QUOTE_ALL, 2 or csv.QUOTE_NONNUMERIC, 3 or csv.QUOTE_NONE}, <br>default csv.QUOTE_MINIMAL<br>\n",
    "Control field quoting behavior per csv.QUOTE_* constants. <br>Default is csv.QUOTE_MINIMAL (i.e., 0) which implies that only fields containing special characters are quoted<br> e.g., characters defined in quotechar, delimiter, or lineterminator."
   ]
  },
  {
   "cell_type": "code",
   "execution_count": 133,
   "metadata": {},
   "outputs": [
    {
     "data": {
      "text/html": [
       "<div>\n",
       "<style scoped>\n",
       "    .dataframe tbody tr th:only-of-type {\n",
       "        vertical-align: middle;\n",
       "    }\n",
       "\n",
       "    .dataframe tbody tr th {\n",
       "        vertical-align: top;\n",
       "    }\n",
       "\n",
       "    .dataframe thead th {\n",
       "        text-align: right;\n",
       "    }\n",
       "</style>\n",
       "<table border=\"1\" class=\"dataframe\">\n",
       "  <thead>\n",
       "    <tr style=\"text-align: right;\">\n",
       "      <th></th>\n",
       "      <th>Review</th>\n",
       "      <th>Liked</th>\n",
       "    </tr>\n",
       "  </thead>\n",
       "  <tbody>\n",
       "    <tr>\n",
       "      <th>0</th>\n",
       "      <td>Wow... Loved this place.</td>\n",
       "      <td>1</td>\n",
       "    </tr>\n",
       "    <tr>\n",
       "      <th>1</th>\n",
       "      <td>Crust is not good.</td>\n",
       "      <td>0</td>\n",
       "    </tr>\n",
       "    <tr>\n",
       "      <th>2</th>\n",
       "      <td>Not tasty and the texture was just nasty.</td>\n",
       "      <td>0</td>\n",
       "    </tr>\n",
       "    <tr>\n",
       "      <th>3</th>\n",
       "      <td>Stopped by during the late May bank holiday of...</td>\n",
       "      <td>1</td>\n",
       "    </tr>\n",
       "    <tr>\n",
       "      <th>4</th>\n",
       "      <td>The selection on the menu was great and so wer...</td>\n",
       "      <td>1</td>\n",
       "    </tr>\n",
       "  </tbody>\n",
       "</table>\n",
       "</div>"
      ],
      "text/plain": [
       "                                              Review  Liked\n",
       "0                           Wow... Loved this place.      1\n",
       "1                                 Crust is not good.      0\n",
       "2          Not tasty and the texture was just nasty.      0\n",
       "3  Stopped by during the late May bank holiday of...      1\n",
       "4  The selection on the menu was great and so wer...      1"
      ]
     },
     "execution_count": 133,
     "metadata": {},
     "output_type": "execute_result"
    }
   ],
   "source": [
    "data.head()"
   ]
  },
  {
   "cell_type": "code",
   "execution_count": 134,
   "metadata": {},
   "outputs": [
    {
     "data": {
      "text/html": [
       "<div>\n",
       "<style scoped>\n",
       "    .dataframe tbody tr th:only-of-type {\n",
       "        vertical-align: middle;\n",
       "    }\n",
       "\n",
       "    .dataframe tbody tr th {\n",
       "        vertical-align: top;\n",
       "    }\n",
       "\n",
       "    .dataframe thead th {\n",
       "        text-align: right;\n",
       "    }\n",
       "</style>\n",
       "<table border=\"1\" class=\"dataframe\">\n",
       "  <thead>\n",
       "    <tr style=\"text-align: right;\">\n",
       "      <th></th>\n",
       "      <th>Review</th>\n",
       "      <th>Liked</th>\n",
       "    </tr>\n",
       "  </thead>\n",
       "  <tbody>\n",
       "    <tr>\n",
       "      <th>995</th>\n",
       "      <td>I think food should have flavor and texture an...</td>\n",
       "      <td>0</td>\n",
       "    </tr>\n",
       "    <tr>\n",
       "      <th>996</th>\n",
       "      <td>Appetite instantly gone.</td>\n",
       "      <td>0</td>\n",
       "    </tr>\n",
       "    <tr>\n",
       "      <th>997</th>\n",
       "      <td>Overall I was not impressed and would not go b...</td>\n",
       "      <td>0</td>\n",
       "    </tr>\n",
       "    <tr>\n",
       "      <th>998</th>\n",
       "      <td>The whole experience was underwhelming, and I ...</td>\n",
       "      <td>0</td>\n",
       "    </tr>\n",
       "    <tr>\n",
       "      <th>999</th>\n",
       "      <td>Then, as if I hadn't wasted enough of my life ...</td>\n",
       "      <td>0</td>\n",
       "    </tr>\n",
       "  </tbody>\n",
       "</table>\n",
       "</div>"
      ],
      "text/plain": [
       "                                                Review  Liked\n",
       "995  I think food should have flavor and texture an...      0\n",
       "996                           Appetite instantly gone.      0\n",
       "997  Overall I was not impressed and would not go b...      0\n",
       "998  The whole experience was underwhelming, and I ...      0\n",
       "999  Then, as if I hadn't wasted enough of my life ...      0"
      ]
     },
     "execution_count": 134,
     "metadata": {},
     "output_type": "execute_result"
    }
   ],
   "source": [
    "data.tail()"
   ]
  },
  {
   "cell_type": "code",
   "execution_count": 135,
   "metadata": {},
   "outputs": [
    {
     "data": {
      "text/plain": [
       "(1000, 2)"
      ]
     },
     "execution_count": 135,
     "metadata": {},
     "output_type": "execute_result"
    }
   ],
   "source": [
    "data.shape"
   ]
  },
  {
   "cell_type": "code",
   "execution_count": 136,
   "metadata": {},
   "outputs": [
    {
     "data": {
      "text/plain": [
       "Liked\n",
       "1    500\n",
       "0    500\n",
       "Name: count, dtype: int64"
      ]
     },
     "execution_count": 136,
     "metadata": {},
     "output_type": "execute_result"
    }
   ],
   "source": [
    "data['Liked'].value_counts()"
   ]
  },
  {
   "cell_type": "markdown",
   "metadata": {},
   "source": [
    "So there are 500 Likes and 500 Dislikes. So data is well distributed."
   ]
  },
  {
   "cell_type": "markdown",
   "metadata": {},
   "source": [
    "## 2. Cleaning Text data"
   ]
  },
  {
   "cell_type": "code",
   "execution_count": 137,
   "metadata": {},
   "outputs": [],
   "source": [
    "# To remove stopwords\n",
    "import nltk\n",
    "import re # regular expressions"
   ]
  },
  {
   "cell_type": "code",
   "execution_count": 138,
   "metadata": {},
   "outputs": [
    {
     "name": "stderr",
     "output_type": "stream",
     "text": [
      "[nltk_data] Downloading package stopwords to\n",
      "[nltk_data]     C:\\Users\\anikbakr\\AppData\\Roaming\\nltk_data...\n",
      "[nltk_data]   Package stopwords is already up-to-date!\n"
     ]
    },
    {
     "data": {
      "text/plain": [
       "['i',\n",
       " 'me',\n",
       " 'my',\n",
       " 'myself',\n",
       " 'we',\n",
       " 'our',\n",
       " 'ours',\n",
       " 'ourselves',\n",
       " 'you',\n",
       " \"you're\",\n",
       " \"you've\",\n",
       " \"you'll\",\n",
       " \"you'd\",\n",
       " 'your',\n",
       " 'yours',\n",
       " 'yourself',\n",
       " 'yourselves',\n",
       " 'he',\n",
       " 'him',\n",
       " 'his',\n",
       " 'himself',\n",
       " 'she',\n",
       " \"she's\",\n",
       " 'her',\n",
       " 'hers',\n",
       " 'herself',\n",
       " 'it',\n",
       " \"it's\",\n",
       " 'its',\n",
       " 'itself',\n",
       " 'they',\n",
       " 'them',\n",
       " 'their',\n",
       " 'theirs',\n",
       " 'themselves',\n",
       " 'what',\n",
       " 'which',\n",
       " 'who',\n",
       " 'whom',\n",
       " 'this',\n",
       " 'that',\n",
       " \"that'll\",\n",
       " 'these',\n",
       " 'those',\n",
       " 'am',\n",
       " 'is',\n",
       " 'are',\n",
       " 'was',\n",
       " 'were',\n",
       " 'be',\n",
       " 'been',\n",
       " 'being',\n",
       " 'have',\n",
       " 'has',\n",
       " 'had',\n",
       " 'having',\n",
       " 'do',\n",
       " 'does',\n",
       " 'did',\n",
       " 'doing',\n",
       " 'a',\n",
       " 'an',\n",
       " 'the',\n",
       " 'and',\n",
       " 'but',\n",
       " 'if',\n",
       " 'or',\n",
       " 'because',\n",
       " 'as',\n",
       " 'until',\n",
       " 'while',\n",
       " 'of',\n",
       " 'at',\n",
       " 'by',\n",
       " 'for',\n",
       " 'with',\n",
       " 'about',\n",
       " 'against',\n",
       " 'between',\n",
       " 'into',\n",
       " 'through',\n",
       " 'during',\n",
       " 'before',\n",
       " 'after',\n",
       " 'above',\n",
       " 'below',\n",
       " 'to',\n",
       " 'from',\n",
       " 'up',\n",
       " 'down',\n",
       " 'in',\n",
       " 'out',\n",
       " 'on',\n",
       " 'off',\n",
       " 'over',\n",
       " 'under',\n",
       " 'again',\n",
       " 'further',\n",
       " 'then',\n",
       " 'once',\n",
       " 'here',\n",
       " 'there',\n",
       " 'when',\n",
       " 'where',\n",
       " 'why',\n",
       " 'how',\n",
       " 'all',\n",
       " 'any',\n",
       " 'both',\n",
       " 'each',\n",
       " 'few',\n",
       " 'more',\n",
       " 'most',\n",
       " 'other',\n",
       " 'some',\n",
       " 'such',\n",
       " 'no',\n",
       " 'nor',\n",
       " 'not',\n",
       " 'only',\n",
       " 'own',\n",
       " 'same',\n",
       " 'so',\n",
       " 'than',\n",
       " 'too',\n",
       " 'very',\n",
       " 's',\n",
       " 't',\n",
       " 'can',\n",
       " 'will',\n",
       " 'just',\n",
       " 'don',\n",
       " \"don't\",\n",
       " 'should',\n",
       " \"should've\",\n",
       " 'now',\n",
       " 'd',\n",
       " 'll',\n",
       " 'm',\n",
       " 'o',\n",
       " 're',\n",
       " 've',\n",
       " 'y',\n",
       " 'ain',\n",
       " 'aren',\n",
       " \"aren't\",\n",
       " 'couldn',\n",
       " \"couldn't\",\n",
       " 'didn',\n",
       " \"didn't\",\n",
       " 'doesn',\n",
       " \"doesn't\",\n",
       " 'hadn',\n",
       " \"hadn't\",\n",
       " 'hasn',\n",
       " \"hasn't\",\n",
       " 'haven',\n",
       " \"haven't\",\n",
       " 'isn',\n",
       " \"isn't\",\n",
       " 'ma',\n",
       " 'mightn',\n",
       " \"mightn't\",\n",
       " 'mustn',\n",
       " \"mustn't\",\n",
       " 'needn',\n",
       " \"needn't\",\n",
       " 'shan',\n",
       " \"shan't\",\n",
       " 'shouldn',\n",
       " \"shouldn't\",\n",
       " 'wasn',\n",
       " \"wasn't\",\n",
       " 'weren',\n",
       " \"weren't\",\n",
       " 'won',\n",
       " \"won't\",\n",
       " 'wouldn',\n",
       " \"wouldn't\"]"
      ]
     },
     "execution_count": 138,
     "metadata": {},
     "output_type": "execute_result"
    }
   ],
   "source": [
    "# We need to download stopwords first before using\n",
    "nltk.download('stopwords')\n",
    "from nltk.corpus import stopwords\n",
    "# See the stopwords\n",
    "stopwords.words('english')"
   ]
  },
  {
   "cell_type": "markdown",
   "metadata": {},
   "source": [
    "Stop words are words that are commonly used in a language but have little meaning. In English, examples of stop words include \"a\", \"the\", \"and\", \"in\", \"is\", \"it\", \"he\", \"she\", and \"they\". "
   ]
  },
  {
   "cell_type": "code",
   "execution_count": 139,
   "metadata": {},
   "outputs": [
    {
     "data": {
      "text/plain": [
       "Index(['Review', 'Liked'], dtype='object')"
      ]
     },
     "execution_count": 139,
     "metadata": {},
     "output_type": "execute_result"
    }
   ],
   "source": [
    "data.columns"
   ]
  },
  {
   "cell_type": "code",
   "execution_count": 140,
   "metadata": {},
   "outputs": [
    {
     "data": {
      "text/plain": [
       "'Wow... Loved this place.'"
      ]
     },
     "execution_count": 140,
     "metadata": {},
     "output_type": "execute_result"
    }
   ],
   "source": [
    "data['Review'][0]"
   ]
  },
  {
   "cell_type": "code",
   "execution_count": 141,
   "metadata": {},
   "outputs": [
    {
     "name": "stdout",
     "output_type": "stream",
     "text": [
      "Wow    Loved this place \n"
     ]
    }
   ],
   "source": [
    "# First we check to remove regular expressions from data\n",
    "review = re.sub('[^a-zA-Z]', ' ', data['Review'][0])\n",
    "print(review)"
   ]
  },
  {
   "cell_type": "code",
   "execution_count": 142,
   "metadata": {},
   "outputs": [
    {
     "name": "stdout",
     "output_type": "stream",
     "text": [
      "wow    loved this place \n"
     ]
    }
   ],
   "source": [
    "# Here we are lowring all words\n",
    "review = review.lower()\n",
    "print(review)"
   ]
  },
  {
   "cell_type": "code",
   "execution_count": 143,
   "metadata": {},
   "outputs": [
    {
     "name": "stdout",
     "output_type": "stream",
     "text": [
      "['wow', 'loved', 'this', 'place']\n"
     ]
    }
   ],
   "source": [
    "# Now we can remove stopwords\n",
    "# First we need to tokenized. We can split the sentences to words\n",
    "review = review.split()\n",
    "print(review)"
   ]
  },
  {
   "cell_type": "code",
   "execution_count": 144,
   "metadata": {},
   "outputs": [
    {
     "name": "stdout",
     "output_type": "stream",
     "text": [
      "['wow', 'loved', 'place']\n"
     ]
    }
   ],
   "source": [
    "# So we can create for loof to remove stop words\n",
    "# We can create empty list and store which words are not stopwords\n",
    "preview = []\n",
    "for word in review:\n",
    "    if word not in stopwords.words('english'):\n",
    "        preview.append(word)\n",
    "\n",
    "print(preview)"
   ]
  },
  {
   "cell_type": "code",
   "execution_count": 145,
   "metadata": {},
   "outputs": [
    {
     "name": "stdout",
     "output_type": "stream",
     "text": [
      "['wow', 'loved', 'place']\n"
     ]
    }
   ],
   "source": [
    "review = [word for word in review if word not in stopwords.words('english')]\n",
    "print(preview)"
   ]
  },
  {
   "cell_type": "markdown",
   "metadata": {},
   "source": [
    "Stemming and lemmatization are both techniques that reduce words to their base form. The main difference is that lemmatization <br>produces a meaningful word, while stemming can produce an inaccurate word. \n",
    "1. Stemming \n",
    "-   Removes common suffixes from the end of words\n",
    "-   Uses algorithms to determine how many characters to remove\n",
    "-   Can produce inaccurate words\n",
    "-   Is quick and efficient for processing large amounts of text\n",
    "-   Can increase the size of a vocabulary\n",
    "2. Lemmatization\n",
    "-   Analyzes the context of a sentence to produce a meaningful word \n",
    "-   Uses algorithms that consult a dictionary to understand the meaning of a word \n",
    "-   Produces a word that is an existing normalized form of the word \n",
    "-   Is more complex and computationally intensive than stemming \n",
    "<br>Examples \n",
    "-   Stemming\n",
    "    --  The words \"programming,\" \"programmer,\" and \"programs\" can all be stemmed to \"program\".\n",
    "-   Lemmatization\n",
    "    --  The words \"walking,\" \"walks,\" and \"walked\" can all be lemmatized to \"walk\"."
   ]
  },
  {
   "cell_type": "code",
   "execution_count": 146,
   "metadata": {},
   "outputs": [],
   "source": [
    "# We do stemming\n",
    "from nltk.stem.porter import PorterStemmer\n",
    "ps = PorterStemmer()"
   ]
  },
  {
   "cell_type": "code",
   "execution_count": 147,
   "metadata": {},
   "outputs": [
    {
     "data": {
      "text/plain": [
       "['wow', 'love', 'place']"
      ]
     },
     "execution_count": 147,
     "metadata": {},
     "output_type": "execute_result"
    }
   ],
   "source": [
    "review = [ps.stem(word) for word in review]\n",
    "review"
   ]
  },
  {
   "cell_type": "code",
   "execution_count": 148,
   "metadata": {},
   "outputs": [
    {
     "data": {
      "text/plain": [
       "'wow love place'"
      ]
     },
     "execution_count": 148,
     "metadata": {},
     "output_type": "execute_result"
    }
   ],
   "source": [
    "# Now we need to join the words to sentence\n",
    "review = \" \".join(review)\n",
    "review"
   ]
  },
  {
   "cell_type": "code",
   "execution_count": 149,
   "metadata": {},
   "outputs": [],
   "source": [
    "# # For all steps we need to compile for single function so we can apply for each row in data\n",
    "# corpus = []\n",
    "# for i in range(len(data)):\n",
    "#     review = data['Review'][i]\n",
    "#     review = review.lower()\n",
    "#     review = re.sub('[^a-zA-Z]', ' ', review)\n",
    "#     review = review.split()\n",
    "#     review = [word for word in review if word not in stopwords.words('english')]\n",
    "#     review = [ps.stem(word) for word in review]\n",
    "#     review = \" \".join(review)\n",
    "#     data.loc[i,'Review'] = review\n",
    "\n"
   ]
  },
  {
   "cell_type": "code",
   "execution_count": 150,
   "metadata": {},
   "outputs": [],
   "source": [
    "def preprocess_review(review):\n",
    "    if not isinstance(review, str):\n",
    "        return \"\"\n",
    "    review = review.lower()\n",
    "    review = re.sub('[^a-zA-Z]', ' ', review)\n",
    "    review = review.split()\n",
    "    review = [ps.stem(word) for word in review if word not in stopwords.words('english')]\n",
    "    return \" \".join(review)"
   ]
  },
  {
   "cell_type": "code",
   "execution_count": 151,
   "metadata": {},
   "outputs": [
    {
     "data": {
      "text/plain": [
       "0                               Wow... Loved this place.\n",
       "1                                     Crust is not good.\n",
       "2              Not tasty and the texture was just nasty.\n",
       "3      Stopped by during the late May bank holiday of...\n",
       "4      The selection on the menu was great and so wer...\n",
       "                             ...                        \n",
       "995    I think food should have flavor and texture an...\n",
       "996                             Appetite instantly gone.\n",
       "997    Overall I was not impressed and would not go b...\n",
       "998    The whole experience was underwhelming, and I ...\n",
       "999    Then, as if I hadn't wasted enough of my life ...\n",
       "Name: Review, Length: 1000, dtype: object"
      ]
     },
     "execution_count": 151,
     "metadata": {},
     "output_type": "execute_result"
    }
   ],
   "source": [
    "data.Review"
   ]
  },
  {
   "cell_type": "code",
   "execution_count": 152,
   "metadata": {},
   "outputs": [],
   "source": [
    "data['Review']=data['Review'].apply(preprocess_review)"
   ]
  },
  {
   "cell_type": "code",
   "execution_count": 153,
   "metadata": {},
   "outputs": [
    {
     "data": {
      "text/html": [
       "<div>\n",
       "<style scoped>\n",
       "    .dataframe tbody tr th:only-of-type {\n",
       "        vertical-align: middle;\n",
       "    }\n",
       "\n",
       "    .dataframe tbody tr th {\n",
       "        vertical-align: top;\n",
       "    }\n",
       "\n",
       "    .dataframe thead th {\n",
       "        text-align: right;\n",
       "    }\n",
       "</style>\n",
       "<table border=\"1\" class=\"dataframe\">\n",
       "  <thead>\n",
       "    <tr style=\"text-align: right;\">\n",
       "      <th></th>\n",
       "      <th>Review</th>\n",
       "      <th>Liked</th>\n",
       "    </tr>\n",
       "  </thead>\n",
       "  <tbody>\n",
       "    <tr>\n",
       "      <th>0</th>\n",
       "      <td>wow love place</td>\n",
       "      <td>1</td>\n",
       "    </tr>\n",
       "    <tr>\n",
       "      <th>1</th>\n",
       "      <td>crust good</td>\n",
       "      <td>0</td>\n",
       "    </tr>\n",
       "    <tr>\n",
       "      <th>2</th>\n",
       "      <td>tasti textur nasti</td>\n",
       "      <td>0</td>\n",
       "    </tr>\n",
       "    <tr>\n",
       "      <th>3</th>\n",
       "      <td>stop late may bank holiday rick steve recommen...</td>\n",
       "      <td>1</td>\n",
       "    </tr>\n",
       "    <tr>\n",
       "      <th>4</th>\n",
       "      <td>select menu great price</td>\n",
       "      <td>1</td>\n",
       "    </tr>\n",
       "  </tbody>\n",
       "</table>\n",
       "</div>"
      ],
      "text/plain": [
       "                                              Review  Liked\n",
       "0                                     wow love place      1\n",
       "1                                         crust good      0\n",
       "2                                 tasti textur nasti      0\n",
       "3  stop late may bank holiday rick steve recommen...      1\n",
       "4                            select menu great price      1"
      ]
     },
     "execution_count": 153,
     "metadata": {},
     "output_type": "execute_result"
    }
   ],
   "source": [
    "data.head()"
   ]
  },
  {
   "cell_type": "markdown",
   "metadata": {},
   "source": [
    "## 3. Bag of Words"
   ]
  },
  {
   "cell_type": "markdown",
   "metadata": {},
   "source": [
    "The bag-of-words model is a simple way to represent a document in numerical form before we can feed it into a machine learning algorithm. For any natural language processing task, we need a way to accomplish this before any further processing. Machine learning algorithms can’t operate on raw text; we need to convert the text to some sort of numerical representation. This process is also known as embedding the text."
   ]
  },
  {
   "attachments": {
    "image.png": {
     "image/png": "[encoded data removed]"
    }
   },
   "cell_type": "markdown",
   "metadata": {},
   "source": [
    "![image.png](attachment:image.png)"
   ]
  },
  {
   "cell_type": "markdown",
   "metadata": {},
   "source": [
    "The bag-of-words model is commonly used in methods of document classification where, for example, the (frequency of) occurrence of each word is used as a feature for training a classifier. It has also been used for computer vision."
   ]
  },
  {
   "cell_type": "code",
   "execution_count": 154,
   "metadata": {},
   "outputs": [],
   "source": [
    "from sklearn.feature_extraction.text import CountVectorizer"
   ]
  },
  {
   "cell_type": "code",
   "execution_count": 155,
   "metadata": {},
   "outputs": [],
   "source": [
    "cv = CountVectorizer()"
   ]
  },
  {
   "cell_type": "code",
   "execution_count": 156,
   "metadata": {},
   "outputs": [],
   "source": [
    "X = cv.fit_transform(data['Review'])"
   ]
  },
  {
   "cell_type": "code",
   "execution_count": 157,
   "metadata": {},
   "outputs": [],
   "source": [
    "# Convert Sparse Matrix to Array\n",
    "X_array =X.toarray() "
   ]
  },
  {
   "cell_type": "code",
   "execution_count": 159,
   "metadata": {},
   "outputs": [
    {
     "name": "stdout",
     "output_type": "stream",
     "text": [
      "Vocabulary: {'wow': 1547, 'love': 802, 'place': 1028, 'crust': 324, 'good': 594, 'tasti': 1362, 'textur': 1374, 'nasti': 900, 'stop': 1311, 'late': 762, 'may': 834, 'bank': 92, 'holiday': 667, 'rick': 1149, 'steve': 1304, 'recommend': 1115, 'select': 1205, 'menu': 852, 'great': 608, 'price': 1062, 'get': 578, 'angri': 33, 'want': 1497, 'damn': 333, 'pho': 1016, 'honeslti': 670, 'tast': 1360, 'fresh': 553, 'potato': 1054, 'like': 785, 'rubber': 1163, 'could': 297, 'tell': 1367, 'made': 813, 'ahead': 15, 'time': 1396, 'kept': 745, 'warmer': 1499, 'fri': 554, 'touch': 1414, 'servic': 1214, 'prompt': 1074, 'would': 1545, 'go': 588, 'back': 83, 'cashier': 213, 'care': 205, 'ever': 461, 'say': 1190, 'still': 1306, 'end': 445, 'wayyy': 1507, 'overpr': 967, 'tri': 1424, 'cape': 201, 'cod': 259, 'ravoli': 1105, 'chicken': 236, 'cranberri': 310, 'mmmm': 872, 'disgust': 384, 'pretti': 1061, 'sure': 1346, 'human': 687, 'hair': 628, 'shock': 1223, 'sign': 1234, 'indic': 709, 'cash': 211, 'highli': 660, 'waitress': 1494, 'littl': 791, 'slow': 1247, 'worth': 1544, 'let': 777, 'alon': 23, 'vega': 1468, 'burritto': 182, 'blah': 133, 'food': 539, 'amaz': 27, 'also': 24, 'cute': 331, 'less': 776, 'interior': 723, 'beauti': 108, 'perform': 1008, 'right': 1151, 'red': 1116, 'velvet': 1474, 'cake': 192, 'ohhh': 936, 'stuff': 1324, 'never': 909, 'brought': 168, 'salad': 1174, 'ask': 59, 'hole': 666, 'wall': 1496, 'mexican': 856, 'street': 1316, 'taco': 1352, 'friendli': 557, 'staff': 1292, 'took': 1408, 'hour': 682, 'tabl': 1351, 'restaur': 1139, 'luke': 808, 'warm': 1498, 'sever': 1216, 'run': 1165, 'around': 55, 'total': 1413, 'overwhelm': 968, 'worst': 1543, 'salmon': 1175, 'sashimi': 1183, 'combo': 266, 'burger': 180, 'beer': 111, 'decent': 340, 'deal': 339, 'final': 515, 'blow': 142, 'found': 546, 'accid': 2, 'happier': 639, 'seem': 1203, 'quick': 1092, 'grab': 601, 'bite': 131, 'familiar': 492, 'pub': 1079, 'favor': 502, 'look': 797, 'elsewher': 441, 'overal': 964, 'lot': 800, 'redeem': 1117, 'qualiti': 1090, 'inexpens': 712, 'ampl': 31, 'portion': 1050, 'poor': 1046, 'waiter': 1493, 'feel': 505, 'stupid': 1325, 'everi': 462, 'came': 196, 'first': 522, 'visit': 1485, 'hiro': 664, 'delight': 355, 'suck': 1332, 'shrimp': 1231, 'tender': 1370, 'moist': 874, 'enough': 448, 'drag': 404, 'establish': 455, 'hard': 640, 'judg': 741, 'whether': 1521, 'side': 1233, 'gross': 618, 'melt': 849, 'styrofoam': 1327, 'eat': 424, 'fear': 504, 'sick': 1232, 'posit': 1051, 'note': 923, 'server': 1213, 'attent': 66, 'provid': 1078, 'frozen': 559, 'puck': 1082, 'peopl': 1004, 'behind': 113, 'regist': 1124, 'thing': 1382, 'prime': 1064, 'rib': 1145, 'dessert': 366, 'section': 1201, 'bad': 85, 'gener': 576, 'beef': 110, 'cook': 289, 'sandwich': 1181, 'firehous': 521, 'greek': 611, 'dress': 409, 'pita': 1026, 'hummu': 689, 'refresh': 1121, 'order': 952, 'duck': 417, 'rare': 1099, 'pink': 1024, 'insid': 717, 'nice': 912, 'char': 223, 'outsid': 960, 'us': 1459, 'realiz': 1109, 'husband': 693, 'left': 771, 'sunglass': 1343, 'chow': 244, 'mein': 847, 'horribl': 676, 'attitud': 67, 'toward': 1416, 'custom': 329, 'talk': 1356, 'one': 944, 'enjoy': 447, 'huge': 686, 'wonder': 1535, 'imagin': 700, 'heart': 649, 'attack': 65, 'grill': 614, 'downtown': 403, 'absolut': 0, 'flat': 526, 'line': 788, 'excus': 471, 'much': 887, 'seafood': 1196, 'string': 1319, 'pasta': 990, 'bottom': 153, 'amount': 30, 'sauc': 1187, 'power': 1057, 'scallop': 1191, 'perfectli': 1007, 'rip': 1154, 'banana': 91, 'petrifi': 1012, 'tasteless': 1361, 'least': 768, 'think': 1383, 'refil': 1119, 'water': 1504, 'struggl': 1322, 'wave': 1505, 'minut': 867, 'receiv': 1113, 'star': 1295, 'appet': 48, 'cocktail': 257, 'handmad': 635, 'delici': 353, 'definit': 349, 'glad': 583, 'give': 581, 'militari': 862, 'discount': 382, 'alway': 26, 'do': 389, 'gringo': 615, 'updat': 1456, 'went': 1517, 'second': 1200, 'got': 598, 'appar': 46, 'heard': 648, 'salt': 1177, 'batter': 102, 'fish': 523, 'chewi': 235, 'way': 1506, 'finish': 519, 'includ': 705, 'drink': 412, 'jeff': 731, 'beyond': 120, 'expect': 473, 'realli': 1110, 'rice': 1147, 'meh': 846, 'min': 865, 'milkshak': 864, 'noth': 924, 'chocol': 241, 'milk': 863, 'guess': 623, 'known': 754, 'excalibur': 467, 'use': 1460, 'common': 269, 'sens': 1208, 'dish': 385, 'quit': 1094, 'appal': 45, 'valu': 1465, 'well': 1516, 'sweet': 1349, 'season': 1198, 'today': 1401, 'lunch': 810, 'buffet': 175, 'cheat': 228, 'wast': 1502, 'opportun': 949, 'compani': 270, 'come': 267, 'experienc': 476, 'underwhelm': 1443, 'relationship': 1128, 'parti': 986, 'wait': 1492, 'person': 1011, 'break': 161, 'walk': 1495, 'smell': 1252, 'old': 939, 'greas': 606, 'trap': 1422, 'other': 954, 'turkey': 1434, 'roast': 1156, 'bland': 135, 'pan': 978, 'everyon': 463, 'rave': 1104, 'sugari': 1336, 'disast': 380, 'tailor': 1353, 'palat': 975, 'six': 1243, 'year': 1555, 'spring': 1290, 'roll': 1158, 'oh': 935, 'yummi': 1563, 'meat': 839, 'ratio': 1103, 'unsatisfi': 1452, 'omelet': 942, 'die': 369, 'everyth': 464, 'summari': 1339, 'larg': 758, 'disappoint': 378, 'dine': 372, 'experi': 475, 'sexi': 1218, 'mouth': 883, 'outrag': 958, 'flirt': 531, 'hottest': 681, 'rock': 1157, 'casino': 214, 'step': 1303, 'forward': 545, 'best': 118, 'breakfast': 162, 'bye': 187, 'tip': 1398, 'ladi': 757, 'arriv': 57, 'quickli': 1093, 'cafe': 191, 'serv': 1212, 'fantast': 496, 'wife': 1526, 'garlic': 572, 'bone': 148, 'marrow': 831, 'ad': 11, 'extra': 480, 'meal': 837, 'anoth': 35, 'help': 656, 'bloddi': 139, 'mari': 828, 'town': 1417, 'cannot': 199, 'beat': 106, 'mussel': 893, 'wine': 1528, 'reduct': 1118, 'better': 119, 'tigerlilli': 1395, 'afternoon': 13, 'bartend': 96, 'ambienc': 29, 'music': 892, 'play': 1035, 'next': 911, 'trip': 1427, 'sooooo': 1269, 'real': 1108, 'sushi': 1348, 'lover': 803, 'honest': 671, 'yama': 1552, 'pass': 988, 'busi': 183, 'thai': 1376, 'spici': 1284, 'check': 229, 'atmospher': 62, 'kind': 751, 'mess': 854, 'steak': 1300, 'although': 25, 'sound': 1273, 'actual': 10, 'bit': 129, 'know': 753, 'manag': 823, 'blandest': 136, 'eaten': 425, 'prepar': 1059, 'indian': 708, 'cuisin': 327, 'boot': 150, 'worri': 1541, 'fine': 517, 'guy': 625, 'son': 1265, 'said': 1172, 'thought': 1389, 'ventur': 1476, 'away': 74, 'hit': 665, 'spot': 1288, 'night': 914, 'host': 678, 'lack': 756, 'word': 1537, 'bitch': 130, 'number': 926, 'reason': 1111, 'review': 1141, 'leav': 770, 'phenomen': 1014, 'ambianc': 28, 'return': 1140, 'strip': 1320, 'pork': 1049, 'belli': 116, 'mediocr': 842, 'penn': 1003, 'vodka': 1486, 'excel': 469, 'massiv': 833, 'meatloaf': 841, 'crispi': 319, 'wrap': 1548, 'delish': 356, 'tuna': 1433, 'rude': 1164, 'nyc': 929, 'bagel': 86, 'cream': 314, 'chees': 231, 'lox': 805, 'caper': 202, 'even': 459, 'subway': 1330, 'fact': 485, 'meet': 845, 'serious': 1210, 'solid': 1258, 'bar': 93, 'extrem': 482, 'mani': 826, 'weekend': 1512, 'empti': 444, 'suggest': 1337, 'ate': 61, 'curri': 328, 'bamboo': 90, 'shoot': 1225, 'blanket': 137, 'moz': 885, 'top': 1409, 'done': 392, 'cover': 304, 'subpar': 1329, 'bathroom': 101, 'clean': 252, 'decor': 343, 'chang': 222, 'consid': 283, 'pace': 972, 'thumb': 1394, 'watch': 1503, 'pay': 996, 'ignor': 698, 'fianc': 510, 'middl': 859, 'day': 337, 'greet': 613, 'seat': 1199, 'mandalay': 824, 'bay': 103, 'forti': 544, 'five': 524, 'vain': 1463, 'crostini': 320, 'stale': 1293, 'highlight': 661, 'nigiri': 915, 'joint': 738, 'differ': 370, 'cut': 330, 'piec': 1020, 'flavor': 527, 'voodoo': 1488, 'sinc': 1240, 'gluten': 587, 'free': 550, 'ago': 14, 'unfortun': 1445, 'must': 894, 'bakeri': 87, 'leftov': 772, 'reloc': 1131, 'impress': 703, 'immedi': 701, 'divers': 388, 'avoid': 72, 'cost': 294, 'full': 564, 'hand': 633, 'phoenix': 1017, 'metro': 855, 'area': 52, 'treat': 1423, 'bacon': 84, 'hella': 654, 'salti': 1178, 'spinach': 1286, 'avocado': 71, 'ingredi': 715, 'sad': 1168, 'liter': 790, 'zero': 1564, 'list': 789, 'lordi': 798, 'khao': 747, 'soi': 1257, 'miss': 869, 'terrif': 1373, 'thrill': 1391, 'accommod': 3, 'vegetarian': 1471, 'daughter': 336, 'perhap': 1009, 'caught': 216, 'inspir': 718, 'desir': 363, 'modern': 873, 'hip': 663, 'maintain': 819, 'cozi': 306, 'weekli': 1513, 'haunt': 644, 'sat': 1184, 'take': 1354, 'overcook': 965, 'charcoal': 224, 'decid': 341, 'send': 1207, 'verg': 1478, 'probabl': 1067, 'dirt': 375, 'someth': 1262, 'healthi': 647, 'quantiti': 1091, 'lemon': 775, 'raspberri': 1100, 'ice': 696, 'incred': 707, 'interest': 722, 'crepe': 317, 'station': 1298, 'hot': 680, 'bread': 160, 'butter': 185, 'home': 668, 'chip': 238, 'origin': 953, 'egg': 435, 'gyro': 626, 'wing': 1529, 'satisfi': 1186, 'joey': 736, 'vote': 1489, 'dog': 390, 'valley': 1464, 'reader': 1107, 'magazin': 816, 'bowl': 156, 'live': 792, 'friday': 555, 'insult': 721, 'felt': 509, 'disrespect': 387, 'drive': 414, 'exceed': 468, 'hope': 675, 'dream': 407, 'serivc': 1211, 'brunch': 170, 'invit': 724, 'last': 760, 'foot': 540, 'mix': 871, 'mushroom': 891, 'yukon': 1561, 'gold': 591, 'pure': 1086, 'white': 1522, 'corn': 291, 'beateou': 107, 'bug': 176, 'show': 1229, 'given': 582, 'climb': 253, 'kitchen': 752, 'soon': 1267, 'friend': 556, 'tartar': 1359, 'though': 1388, 'soggi': 1256, 'jamaican': 729, 'mojito': 875, 'small': 1248, 'rich': 1148, 'accordingli': 5, 'shower': 1230, 'rins': 1153, 'unless': 1449, 'mind': 866, 'nude': 925, 'see': 1202, 'lobster': 793, 'bisqu': 128, 'bussel': 184, 'sprout': 1291, 'risotto': 1155, 'filet': 512, 'need': 904, 'pepper': 1005, 'cours': 301, 'none': 920, 'bode': 146, 'someon': 1261, 'either': 437, 'cold': 261, 'date': 335, 'unbeliev': 1440, 'bargain': 95, 'folk': 537, 'otto': 956, 'make': 820, 'welcom': 1515, 'special': 1280, 'main': 818, 'uninspir': 1447, 'whenev': 1520, 'world': 1540, 'annoy': 34, 'drunk': 416, 'fun': 565, 'chef': 234, 'doubl': 396, 'cheeseburg': 232, 'singl': 1241, 'patti': 995, 'fall': 490, 'apart': 42, 'pictur': 1019, 'upload': 1458, 'yeah': 1554, 'coupl': 299, 'sport': 1287, 'event': 460, 'tv': 1436, 'possibl': 1052, 'descript': 361, 'yum': 1562, 'eel': 431, 'yet': 1559, 'mayo': 836, 'hardest': 641, 'decis': 342, 'honestli': 672, 'suppos': 1345, 'eye': 483, 'stay': 1299, 'money': 877, 'flavour': 529, 'almost': 22, 'build': 177, 'freez': 551, 'close': 254, 'point': 1042, 'ayc': 78, 'light': 782, 'dark': 334, 'set': 1215, 'mood': 880, 'base': 97, 'sub': 1328, 'par': 982, 'effort': 434, 'gratitud': 604, 'owner': 970, 'privileg': 1065, 'work': 1538, 'creami': 315, 'parent': 984, 'similar': 1236, 'complaint': 273, 'silent': 1235, 'pizza': 1027, 'peanut': 1000, 'fast': 499, 'godfath': 590, 'tough': 1415, 'short': 1227, 'stick': 1305, 'recal': 1112, 'charg': 225, 'tap': 1357, 'exquisit': 478, 'plu': 1040, 'buck': 174, 'thu': 1393, 'far': 497, 'twice': 1437, 'self': 1206, 'proclaim': 1069, 'coffe': 260, 'wildli': 1527, 'veggitarian': 1473, 'platter': 1034, 'cant': 200, 'wrong': 1550, 'madison': 815, 'ironman': 725, 'job': 735, 'dedic': 344, 'boba': 145, 'tea': 1364, 'jenni': 732, 'patio': 993, 'outstand': 961, 'goat': 589, 'skimp': 1244, 'mac': 811, 'bachi': 82, 'stink': 1307, 'burn': 181, 'saganaki': 1171, 'hate': 643, 'disagre': 377, 'fellow': 508, 'yelper': 1558, 'later': 763, 'neighborhood': 907, 'conveni': 288, 'locat': 794, 'pull': 1083, 'soooo': 1268, 'gave': 573, 'rate': 1101, 'pleas': 1036, 'third': 1385, 'write': 1549, 'stir': 1308, 'noodl': 921, 'count': 298, 'box': 157, 'bore': 151, 'greedi': 610, 'corpor': 292, 'dime': 371, 'atroci': 63, 'summer': 1340, 'charm': 226, 'outdoor': 957, 'toast': 1400, 'english': 446, 'muffin': 888, 'untoast': 1453, 'high': 659, 'hous': 683, 'bu': 173, 'boy': 158, 'basic': 99, 'figur': 511, 'joke': 739, 'publicli': 1081, 'loudli': 801, 'bbq': 104, 'lighter': 783, 'fare': 498, 'public': 1080, 'two': 1438, 'happi': 638, 'downsid': 402, 'without': 1534, 'doubt': 397, 'except': 470, 'month': 879, 'favorit': 503, 'shawarrrrrrma': 1221, 'black': 132, 'pea': 998, 'unreal': 1451, 'vinaigrett': 1482, 'seen': 1204, 'especi': 454, 'mom': 876, 'pleasant': 1037, 'honor': 673, 'hut': 694, 'coupon': 300, 'truli': 1430, 'dirti': 376, 'replenish': 1134, 'plain': 1029, 'yucki': 1560, 'standard': 1294, 'omg': 943, 'delicioso': 354, 'authent': 69, 'spaghetti': 1279, 'whatsoev': 1518, 'veget': 1470, 'tucson': 1431, 'chipotl': 240, 'classi': 250, 'succul': 1331, 'basebal': 98, 'brick': 164, 'oven': 963, 'app': 44, 'multipl': 890, 'ten': 1369, 'terribl': 1372, 'equal': 453, 'pancak': 979, 'genuin': 577, 'enthusiast': 450, 'sadli': 1169, 'gordon': 597, 'ramsey': 1095, 'shall': 1219, 'sharpli': 1220, 'life': 781, 'door': 395, 'offer': 933, 'cool': 290, 'turn': 1435, 'els': 440, 'buy': 186, 'handl': 634, 'rowdi': 1162, 'find': 516, 'despic': 364, 'soup': 1275, 'lukewarm': 809, 'crave': 311, 'deserv': 362, 'stomach': 1309, 'ach': 7, 'rest': 1137, 'drop': 415, 'ball': 89, 'space': 1278, 'tini': 1397, 'elegantli': 438, 'comfort': 268, 'usual': 1461, 'eggplant': 436, 'green': 612, 'bean': 105, 'outta': 962, 'part': 985, 'inconsider': 706, 'hi': 658, 'dinner': 373, 'outshin': 959, 'halibut': 630, 'told': 1403, 'happen': 637, 'car': 203, 'front': 558, 'starv': 1297, 'disgrac': 383, 'def': 347, 'ethic': 457, 'continu': 287, 'andddd': 32, 'anyon': 38, 'past': 989, 'stuf': 1323, 'crystal': 326, 'shop': 1226, 'mall': 821, 'aria': 54, 'summar': 1338, 'nay': 901, 'transcend': 1421, 'bring': 165, 'joy': 740, 'memori': 850, 'pneumat': 1041, 'condiment': 280, 'dispens': 386, 'ian': 695, 'kid': 748, 'option': 951, 'kiddo': 749, 'perfect': 1006, 'famili': 491, 'impecc': 702, 'simpli': 1239, 'bouchon': 154, 'account': 6, 'screw': 1195, 'remind': 1133, 'pop': 1048, 'san': 1180, 'francisco': 548, 'buldogi': 178, 'gourmet': 600, 'frustrat': 561, 'petti': 1013, 'hungri': 691, 'assur': 60, 'teeth': 1366, 'sore': 1271, 'complet': 274, 'becom': 109, 'regular': 1125, 'profession': 1070, 'companion': 271, 'ground': 619, 'smear': 1251, 'track': 1418, 'everywher': 465, 'pile': 1021, 'bird': 126, 'poop': 1045, 'furthermor': 567, 'oper': 947, 'websit': 1509, 'mistak': 870, 'expert': 477, 'connisseur': 281, 'topic': 1410, 'jerk': 733, 'strike': 1318, 'rush': 1166, 'nicest': 913, 'across': 9, 'biscuit': 127, 'absolutley': 1, 'awkward': 76, 'lb': 767, 'cow': 305, 'th': 1375, 'gristl': 616, 'fat': 500, 'steiner': 1302, 'dollar': 391, 'anyway': 41, 'fs': 562, 'week': 1511, 'mention': 851, 'combin': 265, 'pear': 1001, 'almond': 21, 'big': 121, 'winner': 1530, 'spicier': 1285, 'prefer': 1058, 'ribey': 1146, 'mesquit': 853, 'anytim': 40, 'gooodd': 596, 'connoisseur': 282, 'certainli': 219, 'contain': 286, 'driest': 411, 'relax': 1129, 'venu': 1477, 'group': 620, 'etc': 456, 'nargil': 899, 'tater': 1363, 'tot': 1412, 'southwest': 1277, 'paid': 974, 'vanilla': 1466, 'smooth': 1254, 'profiterol': 1071, 'choux': 243, 'pastri': 991, 'im': 699, 'az': 79, 'new': 910, 'carli': 206, 'due': 419, 'acknowledg': 8, 'forget': 542, 'margarita': 827, 'ventil': 1475, 'upgrad': 1457, 'letdown': 778, 'rather': 1102, 'camelback': 197, 'flower': 533, 'cartel': 209, 'trim': 1426, 'claim': 248, 'bill': 124, 'jewel': 734, 'la': 755, 'exactli': 466, 'nearli': 902, 'limit': 787, 'boil': 147, 'crab': 308, 'leg': 773, 'toro': 1411, 'cavier': 218, 'extraordinari': 481, 'thinli': 1384, 'slice': 1246, 'wagyu': 1491, 'truffl': 1429, 'dont': 393, 'long': 795, 'attach': 64, 'ga': 569, 'awesom': 75, 'wors': 1542, 'humili': 688, 'worker': 1539, 'bunch': 179, 'name': 897, 'call': 194, 'conclus': 279, 'fill': 513, 'daili': 332, 'tragedi': 1420, 'struck': 1321, 'crawfish': 312, 'monster': 878, 'funni': 566, 'multi': 889, 'grain': 602, 'pumpkin': 1084, 'pecan': 1002, 'fluffi': 534, 'airlin': 16, 'noca': 918, 'lettuc': 779, 'thoroughli': 1387, 'homemad': 669, 'thin': 1381, 'cheesecurd': 233, 'typic': 1439, 'glanc': 584, 'finger': 518, 'item': 727, 'gone': 593, 'greasi': 607, 'unhealthi': 1446, 'might': 860, 'similarli': 1237, 'deliveri': 358, 'man': 822, 'apolog': 43, 'expens': 474, 'pack': 973, 'tiramisu': 1399, 'cannoli': 198, 'sun': 1341, 'whole': 1523, 'choos': 242, 'frenchman': 552, 'martini': 832, 'opinion': 948, 'entre': 452, 'gc': 574, 'sampl': 1179, 'thirti': 1386, 'vacant': 1462, 'yellowtail': 1557, 'carpaccio': 207, 'stranger': 1314, 'hello': 655, 'strang': 1313, 'boyfriend': 159, 'recent': 1114, 'donut': 394, 'save': 1189, 'room': 1159, 'mayb': 835, 'howev': 684, 'particular': 987, 'suffer': 1334, 'tapa': 1358, 'vinegrett': 1483, 'babi': 81, 'palm': 977, 'believ': 114, 'hanker': 636, 'forth': 543, 'theft': 1379, 'eew': 432, 'overhaul': 966, 'wit': 1533, 'guest': 624, 'regularli': 1126, 'super': 1344, 'swung': 1350, 'deepli': 346, 'effici': 433, 'fan': 494, 'sucker': 1333, 'dri': 410, 'cheap': 227, 'oliv': 941, 'perpar': 1010, 'present': 1060, 'giant': 579, 'lightli': 784, 'dust': 421, 'powder': 1056, 'sugar': 1335, 'fo': 535, 'accomod': 4, 'vegan': 1469, 'veggi': 1472, 'crumbi': 323, 'pale': 976, 'color': 264, 'instead': 720, 'crouton': 321, 'crema': 316, 'caf': 190, 'expand': 472, 'wish': 1532, 'philadelphia': 1015, 'sit': 1242, 'fairli': 488, 'crisp': 318, 'north': 922, 'scottsdal': 1193, 'soooooo': 1270, 'freak': 549, 'paper': 981, 'reheat': 1127, 'ok': 938, 'wedg': 1510, 'sorri': 1272, 'tongu': 1406, 'cheek': 230, 'bloodi': 140, 'despit': 365, 'yellow': 1556, 'saffron': 1170, 'thru': 1392, 'mean': 838, 'half': 629, 'somehow': 1260, 'luck': 807, 'non': 919, 'focus': 536, 'grandmoth': 603, 'hostess': 679, 'four': 547, 'blue': 144, 'shirt': 1222, 'vibe': 1481, 'drastic': 405, 'caesar': 189, 'promptli': 1075, 'madhous': 814, 'proven': 1077, 'dead': 338, 'greatest': 609, 'macaron': 812, 'insan': 716, 'inform': 714, 'somewhat': 1264, 'edibl': 428, 'promis': 1073, 'fail': 486, 'deliv': 357, 'averag': 70, 'plater': 1033, 'togeth': 1402, 'poorli': 1047, 'construct': 285, 'italian': 726, 'scream': 1194, 'legit': 774, 'book': 149, 'somethat': 1263, 'duo': 420, 'violinist': 1484, 'song': 1266, 'request': 1135, 'baklava': 88, 'falafel': 489, 'baba': 80, 'ganoush': 570, 'mgm': 857, 'courteou': 303, 'eclect': 426, 'onion': 945, 'ring': 1152, 'nobu': 917, 'googl': 595, 'smashburg': 1250, 'gem': 575, 'plantain': 1030, 'spend': 1282, 'panna': 980, 'cotta': 296, 'slaw': 1245, 'drench': 408, 'piano': 1018, 'soundtrack': 1274, 'rge': 1143, 'fillet': 514, 'relleno': 1130, 'plate': 1032, 'sergeant': 1209, 'auju': 68, 'hawaiian': 645, 'breez': 163, 'mango': 825, 'magic': 817, 'pineappl': 1023, 'smoothi': 1255, 'mortifi': 881, 'needless': 905, 'drip': 413, 'mostli': 882, 'hospit': 677, 'industri': 711, 'paradis': 983, 'refrain': 1120, 'cibo': 246, 'longer': 796, 'famou': 493, 'read': 1106, 'pro': 1066, 'simpl': 1238, 'dough': 399, 'tonight': 1407, 'elk': 439, 'hook': 674, 'classic': 251, 'quaint': 1088, 'compliment': 275, 'thank': 1377, 'dylan': 422, 'tummi': 1432, 'gratuiti': 605, 'larger': 759, 'fli': 530, 'appl': 50, 'juic': 742, 'han': 632, 'nan': 898, 'bare': 94, 'ryan': 1167, 'edinburgh': 429, 'revisit': 1142, 'chines': 237, 'naan': 895, 'pine': 1022, 'nut': 927, 'airport': 17, 'speedi': 1281, 'calligraphi': 195, 'anyth': 39, 'complain': 272, 'stood': 1310, 'begin': 112, 'awkwardli': 77, 'open': 946, 'extens': 479, 'wide': 1524, 'array': 56, 'inflat': 713, 'smaller': 1249, 'grow': 621, 'rapidli': 1098, 'lil': 786, 'fuzzi': 568, 'fabul': 484, 'wonton': 1536, 'thick': 1380, 'level': 780, 'spice': 1283, 'whelm': 1519, 'crowd': 322, 'older': 940, 'mid': 858, 'arepa': 53, 'jalapeno': 728, 'that': 1378, 'shoe': 1224, 'leather': 769, 'defin': 348, 'block': 138, 'low': 804, 'key': 746, 'fanci': 495, 'afford': 12, 'sour': 1276, 'sunday': 1342, 'tradit': 1419, 'hunan': 690, 'style': 1326, 'bother': 152, 'flair': 525, 'nutshel': 928, 'restaraunt': 1138, 'market': 830, 'sewer': 1217, 'girlfriend': 580, 'veal': 1467, 'satifi': 1185, 'join': 737, 'club': 255, 'via': 1480, 'email': 442, 'case': 210, 'colder': 262, 'flavorless': 528, 'describ': 360, 'tepid': 1371, 'chain': 221, 'easili': 423, 'nacho': 896, 'crazi': 313, 'juri': 743, 'lawyer': 766, 'court': 302, 'wienerschnitzel': 1525, 'idea': 697, 'brother': 167, 'law': 765, 'herea': 657, 'tribut': 1425, 'held': 652, 'salsa': 1176, 'pissd': 1025, 'surpris': 1347, 'golden': 592, 'fell': 506, 'bruschetta': 171, 'devin': 368, 'employe': 443, 'lastli': 761, 'mozzarella': 886, 'neglig': 906, 'unwelcom': 1454, 'consist': 284, 'fruit': 560, 'peach': 999, 'offici': 934, 'blown': 143, 'put': 1087, 'plastic': 1031, 'oppos': 950, 'cram': 309, 'takeout': 1355, 'cr': 307, 'pe': 997, 'delic': 352, 'aw': 73, 'fair': 487, 'kabuki': 744, 'maria': 829, 'articl': 58, 'fuck': 563, 'caballero': 188, 'head': 646, 'oyster': 971, 'round': 1161, 'disbelief': 381, 'qualifi': 1089, 'version': 1479, 'toler': 1404, 'polit': 1044, 'wash': 1501, 'otherwis': 955, 'heat': 650, 'coconut': 258, 'fella': 507, 'huevo': 685, 'ranchero': 1097, 'appeal': 47, 'pricey': 1063, 'temp': 1368, 'glove': 586, 'deep': 345, 'oil': 937, 'pleasur': 1038, 'plethora': 1039, 'seal': 1197, 'approv': 51, 'colleg': 263, 'class': 249, 'start': 1296, 'edit': 430, 'besid': 117, 'costco': 295, 'uniqu': 1448, 'weird': 1514, 'hardli': 642, 'groceri': 617, 'store': 1312, 'japanes': 730, 'dude': 418, 'doughi': 400, 'inch': 704, 'wire': 1531, 'albondiga': 19, 'tomato': 1405, 'meatbal': 840, 'three': 1390, 'occas': 931, 'medium': 844, 'bloodiest': 141, 'refus': 1123, 'anymor': 37, 'killer': 750, 'chai': 220, 'latt': 764, 'allergi': 20, 'warn': 1500, 'clue': 256, 'mediterranean': 843, 'rotat': 1160, 'concern': 278, 'mellow': 848, 'strawberri': 1315, 'unprofession': 1450, 'loyal': 806, 'patron': 994, 'occasion': 932, 'pat': 992, 'bellagio': 115, 'anticip': 36, 'weak': 1508, 'correct': 293, 'bought': 155, 'sal': 1173, 'fav': 501, 'unexperienc': 1444, 'steakhous': 1301, 'properli': 1076, 'understand': 1442, 'concept': 277, 'guacamol': 622, 'pur': 1085, 'ed': 427, 'postino': 1053, 'poison': 1043, 'batch': 100, 'yay': 1553, 'hilari': 662, 'christma': 245, 'eve': 458, 'rememb': 1132, 'biggest': 123, 'entir': 451, 'teamwork': 1365, 'degre': 350, 'ri': 1144, 'calamari': 193, 'fondu': 538, 'lost': 799, 'forev': 541, 'scene': 1192, 'denni': 359, 'downright': 401, 'waaaaaayyyyyyyyyi': 1490, 'sangria': 1182, 'glass': 585, 'ridicul': 1150, 'brisket': 166, 'neat': 903, 'trippi': 1428, 'hurri': 692, 'reserv': 1136, 'stretch': 1317, 'cashew': 212, 'undercook': 1441, 'chipolt': 239, 'ranch': 1096, 'dip': 374, 'saus': 1188, 'douchey': 398, 'indoor': 710, 'garden': 571, 'con': 276, 'spotti': 1289, 'neither': 908, 'ensu': 449, 'bing': 125, 'carb': 204, 'profound': 1072, 'deuchebaggeri': 367, 'smoke': 1253, 'solidifi': 1259, 'ala': 18, 'cart': 208, 'blame': 134, 'del': 351, 'hamburg': 631, 'hell': 653, 'gotten': 599, 'ya': 1551, 'shot': 1228, 'firebal': 520, 'disapppoint': 379, 'heimer': 651, 'caus': 217, 'own': 969, 'vomit': 1487, 'circumst': 247, 'brownish': 169, 'obvious': 930, 'movi': 884, 'ha': 627, 'flop': 532, 'problem': 1068, 'bigger': 122, 'unwrap': 1455, 'mile': 861, 'brushfir': 172, 'mirag': 868, 'refri': 1122, 'crusti': 325, 'caterpillar': 215, 'appetit': 49, 'instantli': 719, 'ninja': 916, 'pour': 1055, 'wound': 1546, 'draw': 406}\n",
      "Transformed Matrix\n",
      " [[0 0 0 ... 0 0 0]\n",
      " [0 0 0 ... 0 0 0]\n",
      " [0 0 0 ... 0 0 0]\n",
      " ...\n",
      " [0 0 0 ... 0 0 0]\n",
      " [0 0 0 ... 0 0 0]\n",
      " [0 0 0 ... 0 0 0]]\n"
     ]
    }
   ],
   "source": [
    "# Check the feature names which count vectorizer transformed\n",
    "print(\"Vocabulary:\", cv.vocabulary_)  # Word index mapping. Shows the mapping of words to column indices\n",
    "print(\"Transformed Matrix\\n\", X_array) #  Contains the word counts for each review."
   ]
  },
  {
   "cell_type": "code",
   "execution_count": 160,
   "metadata": {},
   "outputs": [],
   "source": [
    "X = X_array\n",
    "y = data['Liked']"
   ]
  },
  {
   "cell_type": "markdown",
   "metadata": {},
   "source": [
    "## 4. Applying Naive Bayes Algorithm"
   ]
  },
  {
   "cell_type": "markdown",
   "metadata": {},
   "source": [
    "The Naive Bayes algorithm is widely used for various machine learning tasks, particularly in text classification and Natural Language Processing (NLP), because it is simple, fast, and effective in many scenarios. Here's why the Naive Bayes algorithm is a good choice:\n",
    "\n",
    "1. Fast and Efficient:\n",
    "Naive Bayes is computationally inexpensive compared to other algorithms like SVM or neural networks.\n",
    "It has a linear time complexity, making it suitable for large datasets.\n",
    "2. Works Well with High-Dimensional Data:\n",
    "Text data often has a large number of features (words, n-grams). Naive Bayes handles high-dimensional spaces effectively.\n",
    "3. Suitable for Text Classification:\n",
    "It is particularly effective for text classification tasks like spam filtering, sentiment analysis, and document categorization.\n",
    "This is because it works on the principle of word probabilities and their occurrence in classes (e.g., \"spam\" vs. \"not spam\").\n",
    "4. Simplicity:\n",
    "Naive Bayes is simple to understand and implement.\n",
    "It relies on Bayes’ Theorem with an assumption of feature independence, which simplifies calculations.\n",
    "5. Handles Missing Data:\n",
    "Naive Bayes can handle missing features well because it calculates probabilities for each feature independently.\n",
    "6. Robust in Many Cases:\n",
    "Despite the \"naive\" assumption of independence between features, Naive Bayes performs surprisingly well in practice for many real-world applications.\n",
    "7. Good for Small Datasets:\n",
    "Naive Bayes is less likely to overfit and can deliver good results even with small datasets, provided the feature probabilities are well-represented.\n",
    "8. Probabilistic Interpretation:\n",
    "Naive Bayes provides probabilities for each class, making it easy to interpret and use in applications requiring confidence measures.\n",
    "9. Applications of Naive Bayes:\n",
    "* Spam detection: Classify emails as \"spam\" or \"not spam.\"\n",
    "* Sentiment analysis: Identify positive, negative, or neutral sentiment in reviews or tweets.\n",
    "* Text categorization: Assign documents to predefined categories.\n",
    "* Recommender systems: Make predictions about user preferences.\n",
    "* Medical diagnosis: Predict diseases based on symptoms.\n",
    "10. Limitations of Naive Bayes:\n",
    "* Independence Assumption: It assumes that all features are independent, which may not hold true in real-world scenarios. However, it still performs well in practice, even if the assumption is violated.\n",
    "* Zero-Frequency Problem: If a feature never appears in the training set for a given class, its probability is considered zero, which can lead to issues. This is handled using techniques like Laplace smoothing.\n",
    "* Not Ideal for Continuous Data: Naive Bayes is better suited for categorical data. For continuous data, assumptions like Gaussian distributions need to be made.\n",
    "11. Why Choose Naive Bayes?\n",
    "* If you are working on a text classification task (like your dataset with \"Reviews\" and \"Liked\"), Naive Bayes is a strong candidate because:\n",
    "\n",
    "* It’s fast and easy to implement.\n",
    "* It performs well with sparse data (like the bag-of-words or TF-IDF vectors).\n",
    "* It provides a baseline for comparison with more complex algorithms.\n"
   ]
  },
  {
   "cell_type": "code",
   "execution_count": 161,
   "metadata": {},
   "outputs": [],
   "source": [
    "from sklearn.model_selection import train_test_split\n",
    "X_train, X_test, y_train, y_test = train_test_split(X, y, test_size = 0.2, random_state = 40)"
   ]
  },
  {
   "cell_type": "code",
   "execution_count": 162,
   "metadata": {},
   "outputs": [
    {
     "data": {
      "text/plain": [
       "((800, 1565), (200, 1565))"
      ]
     },
     "execution_count": 162,
     "metadata": {},
     "output_type": "execute_result"
    }
   ],
   "source": [
    "X_train.shape, X_test.shape"
   ]
  },
  {
   "cell_type": "code",
   "execution_count": 163,
   "metadata": {},
   "outputs": [
    {
     "data": {
      "text/plain": [
       "((800,), (200,))"
      ]
     },
     "execution_count": 163,
     "metadata": {},
     "output_type": "execute_result"
    }
   ],
   "source": [
    "y_train.shape, y_test.shape"
   ]
  },
  {
   "cell_type": "markdown",
   "metadata": {},
   "source": [
    "## We can apply first MultinominalNB"
   ]
  },
  {
   "cell_type": "code",
   "execution_count": 167,
   "metadata": {},
   "outputs": [],
   "source": [
    "from sklearn.naive_bayes import GaussianNB\n",
    "from sklearn.naive_bayes import MultinomialNB"
   ]
  },
  {
   "cell_type": "code",
   "execution_count": 168,
   "metadata": {},
   "outputs": [],
   "source": [
    "classifier_GNB = GaussianNB()\n",
    "classifier_MNB = MultinomialNB()"
   ]
  },
  {
   "cell_type": "code",
   "execution_count": 174,
   "metadata": {},
   "outputs": [
    {
     "data": {
      "text/html": [
       "<style>#sk-container-id-3 {\n",
       "  /* Definition of color scheme common for light and dark mode */\n",
       "  --sklearn-color-text: #000;\n",
       "  --sklearn-color-text-muted: #666;\n",
       "  --sklearn-color-line: gray;\n",
       "  /* Definition of color scheme for unfitted estimators */\n",
       "  --sklearn-color-unfitted-level-0: #fff5e6;\n",
       "  --sklearn-color-unfitted-level-1: #f6e4d2;\n",
       "  --sklearn-color-unfitted-level-2: #ffe0b3;\n",
       "  --sklearn-color-unfitted-level-3: chocolate;\n",
       "  /* Definition of color scheme for fitted estimators */\n",
       "  --sklearn-color-fitted-level-0: #f0f8ff;\n",
       "  --sklearn-color-fitted-level-1: #d4ebff;\n",
       "  --sklearn-color-fitted-level-2: #b3dbfd;\n",
       "  --sklearn-color-fitted-level-3: cornflowerblue;\n",
       "\n",
       "  /* Specific color for light theme */\n",
       "  --sklearn-color-text-on-default-background: var(--sg-text-color, var(--theme-code-foreground, var(--jp-content-font-color1, black)));\n",
       "  --sklearn-color-background: var(--sg-background-color, var(--theme-background, var(--jp-layout-color0, white)));\n",
       "  --sklearn-color-border-box: var(--sg-text-color, var(--theme-code-foreground, var(--jp-content-font-color1, black)));\n",
       "  --sklearn-color-icon: #696969;\n",
       "\n",
       "  @media (prefers-color-scheme: dark) {\n",
       "    /* Redefinition of color scheme for dark theme */\n",
       "    --sklearn-color-text-on-default-background: var(--sg-text-color, var(--theme-code-foreground, var(--jp-content-font-color1, white)));\n",
       "    --sklearn-color-background: var(--sg-background-color, var(--theme-background, var(--jp-layout-color0, #111)));\n",
       "    --sklearn-color-border-box: var(--sg-text-color, var(--theme-code-foreground, var(--jp-content-font-color1, white)));\n",
       "    --sklearn-color-icon: #878787;\n",
       "  }\n",
       "}\n",
       "\n",
       "#sk-container-id-3 {\n",
       "  color: var(--sklearn-color-text);\n",
       "}\n",
       "\n",
       "#sk-container-id-3 pre {\n",
       "  padding: 0;\n",
       "}\n",
       "\n",
       "#sk-container-id-3 input.sk-hidden--visually {\n",
       "  border: 0;\n",
       "  clip: rect(1px 1px 1px 1px);\n",
       "  clip: rect(1px, 1px, 1px, 1px);\n",
       "  height: 1px;\n",
       "  margin: -1px;\n",
       "  overflow: hidden;\n",
       "  padding: 0;\n",
       "  position: absolute;\n",
       "  width: 1px;\n",
       "}\n",
       "\n",
       "#sk-container-id-3 div.sk-dashed-wrapped {\n",
       "  border: 1px dashed var(--sklearn-color-line);\n",
       "  margin: 0 0.4em 0.5em 0.4em;\n",
       "  box-sizing: border-box;\n",
       "  padding-bottom: 0.4em;\n",
       "  background-color: var(--sklearn-color-background);\n",
       "}\n",
       "\n",
       "#sk-container-id-3 div.sk-container {\n",
       "  /* jupyter's `normalize.less` sets `[hidden] { display: none; }`\n",
       "     but bootstrap.min.css set `[hidden] { display: none !important; }`\n",
       "     so we also need the `!important` here to be able to override the\n",
       "     default hidden behavior on the sphinx rendered scikit-learn.org.\n",
       "     See: https://github.com/scikit-learn/scikit-learn/issues/21755 */\n",
       "  display: inline-block !important;\n",
       "  position: relative;\n",
       "}\n",
       "\n",
       "#sk-container-id-3 div.sk-text-repr-fallback {\n",
       "  display: none;\n",
       "}\n",
       "\n",
       "div.sk-parallel-item,\n",
       "div.sk-serial,\n",
       "div.sk-item {\n",
       "  /* draw centered vertical line to link estimators */\n",
       "  background-image: linear-gradient(var(--sklearn-color-text-on-default-background), var(--sklearn-color-text-on-default-background));\n",
       "  background-size: 2px 100%;\n",
       "  background-repeat: no-repeat;\n",
       "  background-position: center center;\n",
       "}\n",
       "\n",
       "/* Parallel-specific style estimator block */\n",
       "\n",
       "#sk-container-id-3 div.sk-parallel-item::after {\n",
       "  content: \"\";\n",
       "  width: 100%;\n",
       "  border-bottom: 2px solid var(--sklearn-color-text-on-default-background);\n",
       "  flex-grow: 1;\n",
       "}\n",
       "\n",
       "#sk-container-id-3 div.sk-parallel {\n",
       "  display: flex;\n",
       "  align-items: stretch;\n",
       "  justify-content: center;\n",
       "  background-color: var(--sklearn-color-background);\n",
       "  position: relative;\n",
       "}\n",
       "\n",
       "#sk-container-id-3 div.sk-parallel-item {\n",
       "  display: flex;\n",
       "  flex-direction: column;\n",
       "}\n",
       "\n",
       "#sk-container-id-3 div.sk-parallel-item:first-child::after {\n",
       "  align-self: flex-end;\n",
       "  width: 50%;\n",
       "}\n",
       "\n",
       "#sk-container-id-3 div.sk-parallel-item:last-child::after {\n",
       "  align-self: flex-start;\n",
       "  width: 50%;\n",
       "}\n",
       "\n",
       "#sk-container-id-3 div.sk-parallel-item:only-child::after {\n",
       "  width: 0;\n",
       "}\n",
       "\n",
       "/* Serial-specific style estimator block */\n",
       "\n",
       "#sk-container-id-3 div.sk-serial {\n",
       "  display: flex;\n",
       "  flex-direction: column;\n",
       "  align-items: center;\n",
       "  background-color: var(--sklearn-color-background);\n",
       "  padding-right: 1em;\n",
       "  padding-left: 1em;\n",
       "}\n",
       "\n",
       "\n",
       "/* Toggleable style: style used for estimator/Pipeline/ColumnTransformer box that is\n",
       "clickable and can be expanded/collapsed.\n",
       "- Pipeline and ColumnTransformer use this feature and define the default style\n",
       "- Estimators will overwrite some part of the style using the `sk-estimator` class\n",
       "*/\n",
       "\n",
       "/* Pipeline and ColumnTransformer style (default) */\n",
       "\n",
       "#sk-container-id-3 div.sk-toggleable {\n",
       "  /* Default theme specific background. It is overwritten whether we have a\n",
       "  specific estimator or a Pipeline/ColumnTransformer */\n",
       "  background-color: var(--sklearn-color-background);\n",
       "}\n",
       "\n",
       "/* Toggleable label */\n",
       "#sk-container-id-3 label.sk-toggleable__label {\n",
       "  cursor: pointer;\n",
       "  display: flex;\n",
       "  width: 100%;\n",
       "  margin-bottom: 0;\n",
       "  padding: 0.5em;\n",
       "  box-sizing: border-box;\n",
       "  text-align: center;\n",
       "  align-items: start;\n",
       "  justify-content: space-between;\n",
       "  gap: 0.5em;\n",
       "}\n",
       "\n",
       "#sk-container-id-3 label.sk-toggleable__label .caption {\n",
       "  font-size: 0.6rem;\n",
       "  font-weight: lighter;\n",
       "  color: var(--sklearn-color-text-muted);\n",
       "}\n",
       "\n",
       "#sk-container-id-3 label.sk-toggleable__label-arrow:before {\n",
       "  /* Arrow on the left of the label */\n",
       "  content: \"▸\";\n",
       "  float: left;\n",
       "  margin-right: 0.25em;\n",
       "  color: var(--sklearn-color-icon);\n",
       "}\n",
       "\n",
       "#sk-container-id-3 label.sk-toggleable__label-arrow:hover:before {\n",
       "  color: var(--sklearn-color-text);\n",
       "}\n",
       "\n",
       "/* Toggleable content - dropdown */\n",
       "\n",
       "#sk-container-id-3 div.sk-toggleable__content {\n",
       "  max-height: 0;\n",
       "  max-width: 0;\n",
       "  overflow: hidden;\n",
       "  text-align: left;\n",
       "  /* unfitted */\n",
       "  background-color: var(--sklearn-color-unfitted-level-0);\n",
       "}\n",
       "\n",
       "#sk-container-id-3 div.sk-toggleable__content.fitted {\n",
       "  /* fitted */\n",
       "  background-color: var(--sklearn-color-fitted-level-0);\n",
       "}\n",
       "\n",
       "#sk-container-id-3 div.sk-toggleable__content pre {\n",
       "  margin: 0.2em;\n",
       "  border-radius: 0.25em;\n",
       "  color: var(--sklearn-color-text);\n",
       "  /* unfitted */\n",
       "  background-color: var(--sklearn-color-unfitted-level-0);\n",
       "}\n",
       "\n",
       "#sk-container-id-3 div.sk-toggleable__content.fitted pre {\n",
       "  /* unfitted */\n",
       "  background-color: var(--sklearn-color-fitted-level-0);\n",
       "}\n",
       "\n",
       "#sk-container-id-3 input.sk-toggleable__control:checked~div.sk-toggleable__content {\n",
       "  /* Expand drop-down */\n",
       "  max-height: 200px;\n",
       "  max-width: 100%;\n",
       "  overflow: auto;\n",
       "}\n",
       "\n",
       "#sk-container-id-3 input.sk-toggleable__control:checked~label.sk-toggleable__label-arrow:before {\n",
       "  content: \"▾\";\n",
       "}\n",
       "\n",
       "/* Pipeline/ColumnTransformer-specific style */\n",
       "\n",
       "#sk-container-id-3 div.sk-label input.sk-toggleable__control:checked~label.sk-toggleable__label {\n",
       "  color: var(--sklearn-color-text);\n",
       "  background-color: var(--sklearn-color-unfitted-level-2);\n",
       "}\n",
       "\n",
       "#sk-container-id-3 div.sk-label.fitted input.sk-toggleable__control:checked~label.sk-toggleable__label {\n",
       "  background-color: var(--sklearn-color-fitted-level-2);\n",
       "}\n",
       "\n",
       "/* Estimator-specific style */\n",
       "\n",
       "/* Colorize estimator box */\n",
       "#sk-container-id-3 div.sk-estimator input.sk-toggleable__control:checked~label.sk-toggleable__label {\n",
       "  /* unfitted */\n",
       "  background-color: var(--sklearn-color-unfitted-level-2);\n",
       "}\n",
       "\n",
       "#sk-container-id-3 div.sk-estimator.fitted input.sk-toggleable__control:checked~label.sk-toggleable__label {\n",
       "  /* fitted */\n",
       "  background-color: var(--sklearn-color-fitted-level-2);\n",
       "}\n",
       "\n",
       "#sk-container-id-3 div.sk-label label.sk-toggleable__label,\n",
       "#sk-container-id-3 div.sk-label label {\n",
       "  /* The background is the default theme color */\n",
       "  color: var(--sklearn-color-text-on-default-background);\n",
       "}\n",
       "\n",
       "/* On hover, darken the color of the background */\n",
       "#sk-container-id-3 div.sk-label:hover label.sk-toggleable__label {\n",
       "  color: var(--sklearn-color-text);\n",
       "  background-color: var(--sklearn-color-unfitted-level-2);\n",
       "}\n",
       "\n",
       "/* Label box, darken color on hover, fitted */\n",
       "#sk-container-id-3 div.sk-label.fitted:hover label.sk-toggleable__label.fitted {\n",
       "  color: var(--sklearn-color-text);\n",
       "  background-color: var(--sklearn-color-fitted-level-2);\n",
       "}\n",
       "\n",
       "/* Estimator label */\n",
       "\n",
       "#sk-container-id-3 div.sk-label label {\n",
       "  font-family: monospace;\n",
       "  font-weight: bold;\n",
       "  display: inline-block;\n",
       "  line-height: 1.2em;\n",
       "}\n",
       "\n",
       "#sk-container-id-3 div.sk-label-container {\n",
       "  text-align: center;\n",
       "}\n",
       "\n",
       "/* Estimator-specific */\n",
       "#sk-container-id-3 div.sk-estimator {\n",
       "  font-family: monospace;\n",
       "  border: 1px dotted var(--sklearn-color-border-box);\n",
       "  border-radius: 0.25em;\n",
       "  box-sizing: border-box;\n",
       "  margin-bottom: 0.5em;\n",
       "  /* unfitted */\n",
       "  background-color: var(--sklearn-color-unfitted-level-0);\n",
       "}\n",
       "\n",
       "#sk-container-id-3 div.sk-estimator.fitted {\n",
       "  /* fitted */\n",
       "  background-color: var(--sklearn-color-fitted-level-0);\n",
       "}\n",
       "\n",
       "/* on hover */\n",
       "#sk-container-id-3 div.sk-estimator:hover {\n",
       "  /* unfitted */\n",
       "  background-color: var(--sklearn-color-unfitted-level-2);\n",
       "}\n",
       "\n",
       "#sk-container-id-3 div.sk-estimator.fitted:hover {\n",
       "  /* fitted */\n",
       "  background-color: var(--sklearn-color-fitted-level-2);\n",
       "}\n",
       "\n",
       "/* Specification for estimator info (e.g. \"i\" and \"?\") */\n",
       "\n",
       "/* Common style for \"i\" and \"?\" */\n",
       "\n",
       ".sk-estimator-doc-link,\n",
       "a:link.sk-estimator-doc-link,\n",
       "a:visited.sk-estimator-doc-link {\n",
       "  float: right;\n",
       "  font-size: smaller;\n",
       "  line-height: 1em;\n",
       "  font-family: monospace;\n",
       "  background-color: var(--sklearn-color-background);\n",
       "  border-radius: 1em;\n",
       "  height: 1em;\n",
       "  width: 1em;\n",
       "  text-decoration: none !important;\n",
       "  margin-left: 0.5em;\n",
       "  text-align: center;\n",
       "  /* unfitted */\n",
       "  border: var(--sklearn-color-unfitted-level-1) 1pt solid;\n",
       "  color: var(--sklearn-color-unfitted-level-1);\n",
       "}\n",
       "\n",
       ".sk-estimator-doc-link.fitted,\n",
       "a:link.sk-estimator-doc-link.fitted,\n",
       "a:visited.sk-estimator-doc-link.fitted {\n",
       "  /* fitted */\n",
       "  border: var(--sklearn-color-fitted-level-1) 1pt solid;\n",
       "  color: var(--sklearn-color-fitted-level-1);\n",
       "}\n",
       "\n",
       "/* On hover */\n",
       "div.sk-estimator:hover .sk-estimator-doc-link:hover,\n",
       ".sk-estimator-doc-link:hover,\n",
       "div.sk-label-container:hover .sk-estimator-doc-link:hover,\n",
       ".sk-estimator-doc-link:hover {\n",
       "  /* unfitted */\n",
       "  background-color: var(--sklearn-color-unfitted-level-3);\n",
       "  color: var(--sklearn-color-background);\n",
       "  text-decoration: none;\n",
       "}\n",
       "\n",
       "div.sk-estimator.fitted:hover .sk-estimator-doc-link.fitted:hover,\n",
       ".sk-estimator-doc-link.fitted:hover,\n",
       "div.sk-label-container:hover .sk-estimator-doc-link.fitted:hover,\n",
       ".sk-estimator-doc-link.fitted:hover {\n",
       "  /* fitted */\n",
       "  background-color: var(--sklearn-color-fitted-level-3);\n",
       "  color: var(--sklearn-color-background);\n",
       "  text-decoration: none;\n",
       "}\n",
       "\n",
       "/* Span, style for the box shown on hovering the info icon */\n",
       ".sk-estimator-doc-link span {\n",
       "  display: none;\n",
       "  z-index: 9999;\n",
       "  position: relative;\n",
       "  font-weight: normal;\n",
       "  right: .2ex;\n",
       "  padding: .5ex;\n",
       "  margin: .5ex;\n",
       "  width: min-content;\n",
       "  min-width: 20ex;\n",
       "  max-width: 50ex;\n",
       "  color: var(--sklearn-color-text);\n",
       "  box-shadow: 2pt 2pt 4pt #999;\n",
       "  /* unfitted */\n",
       "  background: var(--sklearn-color-unfitted-level-0);\n",
       "  border: .5pt solid var(--sklearn-color-unfitted-level-3);\n",
       "}\n",
       "\n",
       ".sk-estimator-doc-link.fitted span {\n",
       "  /* fitted */\n",
       "  background: var(--sklearn-color-fitted-level-0);\n",
       "  border: var(--sklearn-color-fitted-level-3);\n",
       "}\n",
       "\n",
       ".sk-estimator-doc-link:hover span {\n",
       "  display: block;\n",
       "}\n",
       "\n",
       "/* \"?\"-specific style due to the `<a>` HTML tag */\n",
       "\n",
       "#sk-container-id-3 a.estimator_doc_link {\n",
       "  float: right;\n",
       "  font-size: 1rem;\n",
       "  line-height: 1em;\n",
       "  font-family: monospace;\n",
       "  background-color: var(--sklearn-color-background);\n",
       "  border-radius: 1rem;\n",
       "  height: 1rem;\n",
       "  width: 1rem;\n",
       "  text-decoration: none;\n",
       "  /* unfitted */\n",
       "  color: var(--sklearn-color-unfitted-level-1);\n",
       "  border: var(--sklearn-color-unfitted-level-1) 1pt solid;\n",
       "}\n",
       "\n",
       "#sk-container-id-3 a.estimator_doc_link.fitted {\n",
       "  /* fitted */\n",
       "  border: var(--sklearn-color-fitted-level-1) 1pt solid;\n",
       "  color: var(--sklearn-color-fitted-level-1);\n",
       "}\n",
       "\n",
       "/* On hover */\n",
       "#sk-container-id-3 a.estimator_doc_link:hover {\n",
       "  /* unfitted */\n",
       "  background-color: var(--sklearn-color-unfitted-level-3);\n",
       "  color: var(--sklearn-color-background);\n",
       "  text-decoration: none;\n",
       "}\n",
       "\n",
       "#sk-container-id-3 a.estimator_doc_link.fitted:hover {\n",
       "  /* fitted */\n",
       "  background-color: var(--sklearn-color-fitted-level-3);\n",
       "}\n",
       "</style><div id=\"sk-container-id-3\" class=\"sk-top-container\"><div class=\"sk-text-repr-fallback\"><pre>MultinomialNB()</pre><b>In a Jupyter environment, please rerun this cell to show the HTML representation or trust the notebook. <br />On GitHub, the HTML representation is unable to render, please try loading this page with nbviewer.org.</b></div><div class=\"sk-container\" hidden><div class=\"sk-item\"><div class=\"sk-estimator fitted sk-toggleable\"><input class=\"sk-toggleable__control sk-hidden--visually\" id=\"sk-estimator-id-3\" type=\"checkbox\" checked><label for=\"sk-estimator-id-3\" class=\"sk-toggleable__label fitted sk-toggleable__label-arrow\"><div><div>MultinomialNB</div></div><div><a class=\"sk-estimator-doc-link fitted\" rel=\"noreferrer\" target=\"_blank\" href=\"https://scikit-learn.org/1.6/modules/generated/sklearn.naive_bayes.MultinomialNB.html\">?<span>Documentation for MultinomialNB</span></a><span class=\"sk-estimator-doc-link fitted\">i<span>Fitted</span></span></div></label><div class=\"sk-toggleable__content fitted\"><pre>MultinomialNB()</pre></div> </div></div></div></div>"
      ],
      "text/plain": [
       "MultinomialNB()"
      ]
     },
     "execution_count": 174,
     "metadata": {},
     "output_type": "execute_result"
    }
   ],
   "source": [
    "# Train a Naive Bayes classifier\n",
    "classifier_GNB.fit(X_train, y_train)\n",
    "classifier_MNB.fit(X_train, y_train)"
   ]
  },
  {
   "cell_type": "code",
   "execution_count": 175,
   "metadata": {},
   "outputs": [],
   "source": [
    "y_pred_GNB =classifier_GNB.predict(X_test)\n",
    "y_pred_MNB =classifier_MNB.predict(X_test)"
   ]
  },
  {
   "cell_type": "code",
   "execution_count": 179,
   "metadata": {},
   "outputs": [
    {
     "name": "stdout",
     "output_type": "stream",
     "text": [
      "Model Accuracy using Gussian Naive Bias: 0.67\n"
     ]
    }
   ],
   "source": [
    "# Evaluate the model\n",
    "accuracy = classifier_GNB.score(X_test, y_test)\n",
    "print(f\"Model Accuracy using Gussian Naive Bias: {accuracy:.2f}\")"
   ]
  },
  {
   "cell_type": "code",
   "execution_count": 181,
   "metadata": {},
   "outputs": [
    {
     "name": "stdout",
     "output_type": "stream",
     "text": [
      "Model Accuracy using MultinomialNB Naive Bias: 0.80\n"
     ]
    }
   ],
   "source": [
    "# Evaluate the model\n",
    "accuracy = classifier_MNB.score(X_test, y_test)\n",
    "print(f\"Model Accuracy using MultinomialNB Naive Bias: {accuracy:.2f}\")"
   ]
  },
  {
   "cell_type": "markdown",
   "metadata": {},
   "source": [
    "## Saving the model and Vectorizer"
   ]
  },
  {
   "cell_type": "code",
   "execution_count": 184,
   "metadata": {},
   "outputs": [
    {
     "name": "stdout",
     "output_type": "stream",
     "text": [
      "Model and vectorizer saved successfully!\n"
     ]
    }
   ],
   "source": [
    "import joblib\n",
    "# Save the trained model\n",
    "joblib.dump(classifier_MNB, \"sentiment_model.pkl\")\n",
    "\n",
    "# Save the CountVectorizer instance\n",
    "joblib.dump(cv, \"vectorizer.pkl\")\n",
    "\n",
    "print(\"Model and vectorizer saved successfully!\")"
   ]
  }
 ],
 "metadata": {
  "kernelspec": {
   "display_name": ".venv",
   "language": "python",
   "name": "python3"
  },
  "language_info": {
   "codemirror_mode": {
    "name": "ipython",
    "version": 3
   },
   "file_extension": ".py",
   "mimetype": "text/x-python",
   "name": "python",
   "nbconvert_exporter": "python",
   "pygments_lexer": "ipython3",
   "version": "3.12.8"
  }
 },
 "nbformat": 4,
 "nbformat_minor": 2
}
